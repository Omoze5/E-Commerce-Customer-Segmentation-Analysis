{
 "cells": [
  {
   "cell_type": "markdown",
   "id": "6d5ba1e7",
   "metadata": {},
   "source": [
    "## 1. Define the Problem"
   ]
  },
  {
   "cell_type": "code",
   "execution_count": null,
   "id": "9bdaa6d7",
   "metadata": {},
   "outputs": [],
   "source": [
    "# Business cases\n",
    "# 1. Data Science for Social Impact - Building foundations for New learners\n",
    "# 2. Finance - Fraud Detection and Prevention, \n",
    "# Which customers will buy a financial product\n",
    "# 3. SaaS - Churn Prediction and Reduction\n",
    "# 4. Supply Chain - Customer Service and Experience\n",
    "# 5. CyberSecurity - \n",
    "# 6. Public Health - \n",
    "# 7. Bioinformatics - "
   ]
  },
  {
   "cell_type": "markdown",
   "id": "7a1be094",
   "metadata": {},
   "source": [
    "## 2. Gather & Prepare the Data"
   ]
  },
  {
   "cell_type": "code",
   "execution_count": null,
   "id": "58071647",
   "metadata": {},
   "outputs": [],
   "source": [
    "# Data Collection \n",
    "# 1. Kaggle \n",
    "# 2. UCI - ML Repository\n",
    "# 3. Open Data Repositories - data.gov\n",
    "# 4. APIs"
   ]
  },
  {
   "cell_type": "code",
   "execution_count": null,
   "id": "70acec48",
   "metadata": {},
   "outputs": [],
   "source": [
    "# Data Cleaning \n",
    "# 1. Handle missing values\n",
    "# 2. Understanding duplicates \n",
    "# 3. Correcting errors\n",
    "# 4. Quality of the data \n",
    "# 5. Data Transformation "
   ]
  },
  {
   "cell_type": "code",
   "execution_count": null,
   "id": "0df68861",
   "metadata": {},
   "outputs": [],
   "source": [
    "# Data Exploration \n",
    "# Data Characteristics \n",
    "# Data Distribution \n",
    "# Relationships btw Variables \n",
    "# Outliers "
   ]
  }
 ],
 "metadata": {
  "kernelspec": {
   "display_name": "Python 3 (ipykernel)",
   "language": "python",
   "name": "python3"
  },
  "language_info": {
   "codemirror_mode": {
    "name": "ipython",
    "version": 3
   },
   "file_extension": ".py",
   "mimetype": "text/x-python",
   "name": "python",
   "nbconvert_exporter": "python",
   "pygments_lexer": "ipython3",
   "version": "3.11.5"
  }
 },
 "nbformat": 4,
 "nbformat_minor": 5
}
